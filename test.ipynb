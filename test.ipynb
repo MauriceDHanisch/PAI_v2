{
 "cells": [
  {
   "cell_type": "code",
   "execution_count": 3,
   "metadata": {},
   "outputs": [
    {
     "name": "stdout",
     "output_type": "stream",
     "text": [
      "tensor([ 7, 10], dtype=torch.int32)\n",
      "tensor([[1, 4],\n",
      "        [3, 8]], dtype=torch.int32)\n"
     ]
    },
    {
     "name": "stderr",
     "output_type": "stream",
     "text": [
      "C:\\Users\\MOUms\\AppData\\Local\\Temp\\ipykernel_18844\\811226340.py:6: UserWarning: To copy construct from a tensor, it is recommended to use sourceTensor.clone().detach() or sourceTensor.clone().detach().requires_grad_(True), rather than torch.tensor(sourceTensor).\n",
      "  a = torch.tensor(sum([y[i]*z[i] for i in range(y.size()[0])]))\n"
     ]
    }
   ],
   "source": [
    "import numpy as np \n",
    "import torch\n",
    "\n",
    "y = torch.tensor(np.array([[1, 2], [3, 4]]))\n",
    "z = torch.tensor(np.array([1, 2]))\n",
    "a = torch.tensor(sum([y[i]*z[i] for i in range(y.size()[0])]))\n",
    "print(a)\n",
    "percentage = 100\n"
   ]
  }
 ],
 "metadata": {
  "kernelspec": {
   "display_name": "intro-ml",
   "language": "python",
   "name": "intro-ml"
  },
  "language_info": {
   "codemirror_mode": {
    "name": "ipython",
    "version": 3
   },
   "file_extension": ".py",
   "mimetype": "text/x-python",
   "name": "python",
   "nbconvert_exporter": "python",
   "pygments_lexer": "ipython3",
   "version": "3.11.5"
  }
 },
 "nbformat": 4,
 "nbformat_minor": 2
}
